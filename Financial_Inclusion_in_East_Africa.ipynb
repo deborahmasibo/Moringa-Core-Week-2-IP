{
  "nbformat": 4,
  "nbformat_minor": 0,
  "metadata": {
    "colab": {
      "name": "Financial Inclusion in East Africa.ipynb",
      "provenance": [],
      "collapsed_sections": [],
      "authorship_tag": "ABX9TyPPAnVp4lk7Ne0doYkScIrr",
      "include_colab_link": true
    },
    "kernelspec": {
      "name": "python3",
      "display_name": "Python 3"
    },
    "language_info": {
      "name": "python"
    }
  },
  "cells": [
    {
      "cell_type": "markdown",
      "metadata": {
        "id": "view-in-github",
        "colab_type": "text"
      },
      "source": [
        "<a href=\"https://colab.research.google.com/github/deborahmasibo/Moringa-Core-Week-2-IP/blob/main/Financial_Inclusion_in_East_Africa.ipynb\" target=\"_parent\"><img src=\"https://colab.research.google.com/assets/colab-badge.svg\" alt=\"Open In Colab\"/></a>"
      ]
    },
    {
      "cell_type": "markdown",
      "source": [
        "# Financial Inclusion in East Africa"
      ],
      "metadata": {
        "id": "VcLfe8JEu1H5"
      }
    },
    {
      "cell_type": "markdown",
      "source": [
        "## 1. Defining the Question"
      ],
      "metadata": {
        "id": "TQoUqwqjERCR"
      }
    },
    {
      "cell_type": "markdown",
      "source": [
        "### a) Question Specification"
      ],
      "metadata": {
        "id": "iuyg7JqiEbM4"
      }
    },
    {
      "cell_type": "markdown",
      "source": [
        "Which individuals are most likely to have or user a bank account?"
      ],
      "metadata": {
        "id": "xXe8uiYbEo4c"
      }
    },
    {
      "cell_type": "markdown",
      "source": [
        "### b) Metric for Success"
      ],
      "metadata": {
        "id": "4ZiEGTGVE01M"
      }
    },
    {
      "cell_type": "markdown",
      "source": [
        "Identifying and predicting the individuals who are most likely to have or use a bank account."
      ],
      "metadata": {
        "id": "MGuX15C5E61g"
      }
    },
    {
      "cell_type": "markdown",
      "source": [
        "### c) Analysis context."
      ],
      "metadata": {
        "id": "9OfkfZYgFvgl"
      }
    },
    {
      "cell_type": "markdown",
      "source": [
        "#### d) Experimental Design"
      ],
      "metadata": {
        "id": "LgJXTPMfF3Fc"
      }
    },
    {
      "cell_type": "markdown",
      "source": [
        "### e) Data Relevance"
      ],
      "metadata": {
        "id": "Ifgr1RiGICco"
      }
    }
  ]
}